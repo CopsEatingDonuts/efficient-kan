{
 "cells": [
  {
   "cell_type": "code",
   "execution_count": 1,
   "id": "27400513-6146-4b9e-b0c8-a50d29c038e6",
   "metadata": {},
   "outputs": [],
   "source": [
    "import os\n",
    "import numpy as np\n",
    "import nibabel as nib\n",
    "import pandas as pd"
   ]
  },
  {
   "cell_type": "code",
   "execution_count": 2,
   "id": "a2cf5479-ad2a-4485-b408-7fc9b7ac7f98",
   "metadata": {},
   "outputs": [],
   "source": [
    "features = pd.read_csv('REBL_features.csv')"
   ]
  },
  {
   "cell_type": "code",
   "execution_count": 6,
   "id": "ce217854-720a-4494-91d1-6c8c7c219900",
   "metadata": {},
   "outputs": [],
   "source": [
    "features = features.select_dtypes(['number'])"
   ]
  },
  {
   "cell_type": "code",
   "execution_count": null,
   "id": "73b2cc5b-e0f1-439c-b259-592d1e40e29b",
   "metadata": {},
   "outputs": [],
   "source": []
  }
 ],
 "metadata": {
  "kernelspec": {
   "display_name": "Python 3 (ipykernel)",
   "language": "python",
   "name": "python3"
  },
  "language_info": {
   "codemirror_mode": {
    "name": "ipython",
    "version": 3
   },
   "file_extension": ".py",
   "mimetype": "text/x-python",
   "name": "python",
   "nbconvert_exporter": "python",
   "pygments_lexer": "ipython3",
   "version": "3.11.7"
  }
 },
 "nbformat": 4,
 "nbformat_minor": 5
}
